{
  "nbformat": 4,
  "nbformat_minor": 0,
  "metadata": {
    "colab": {
      "provenance": []
    },
    "kernelspec": {
      "name": "python3",
      "display_name": "Python 3"
    },
    "language_info": {
      "name": "python"
    }
  },
  "cells": [
    {
      "cell_type": "code",
      "source": [
        "# Helper function to hash a value\n",
        "def hash_value(value, table_size):\n",
        "    return value % table_size\n",
        "\n",
        "# Helper function to display the hash table\n",
        "def display_table(table):\n",
        "    for i, val in enumerate(table):\n",
        "        print(f\"Index {i}: {val}\")"
      ],
      "metadata": {
        "id": "0FZdkNCy3yRv"
      },
      "execution_count": null,
      "outputs": []
    },
    {
      "cell_type": "markdown",
      "source": [
        "# ***Hashing Techniques***\n",
        "## ***Open Hashing***\n",
        "### Separate Chaining\n",
        "In separate chaining, each cell of the hash table contains a linked list. When a collision occurs (i.e., multiple values hash to the same index), the new value is simply added to the linked list at that index.\n",
        "\n",
        "## ***Open Addressing***\n",
        "### Linear Probing\n",
        "Linear probing resolves collisions by checking the next cell in the table. If a collision occurs, the algorithm looks at the next cell (index + 1) and continues to do so until it finds an empty cell.\n",
        "### Quadratic Probing\n",
        "Quadratic probing is similar to linear probing but uses a quadratic function to resolve collisions. Instead of checking the next cell, it checks cells based on a quadratic sequence (e.g., index + 1^2, index + 2^2, etc.) until an empty cell is found.\n",
        "### Double Hashing\n",
        "Double hashing uses a second hash function to calculate the step size when a collision occurs. If a collision happens, the step size determines the next cell to check, making the probing sequence more unique compared to linear and quadratic probing."
      ],
      "metadata": {
        "id": "5VpuepIS6gAu"
      }
    },
    {
      "cell_type": "markdown",
      "source": [
        "# Questions\n",
        "For each question, you'll have a table with 10 slots and a comment showing a few values to be inserted into the hash table. First, figure out how the table should look after inserting the values using the given hashing method. Then, run the code to see if you were right."
      ],
      "metadata": {
        "id": "aLWIZWGE-QMT"
      }
    },
    {
      "cell_type": "markdown",
      "source": [
        "# Separate Chaining"
      ],
      "metadata": {
        "id": "oMyY2TF6_J8K"
      }
    },
    {
      "cell_type": "code",
      "source": [
        "# Separate Chaining\n",
        "class SeparateChainingHashTable:\n",
        "    def __init__(self, size):\n",
        "        self.size = size\n",
        "        self.table = [[] for _ in range(size)]\n",
        "\n",
        "    def insert(self, value):\n",
        "        index = hash_value(value, self.size)\n",
        "        self.table[index].append(value)\n",
        "\n",
        "    def display(self):\n",
        "        display_table(self.table)"
      ],
      "metadata": {
        "id": "rN-4BG2P4tK8"
      },
      "execution_count": null,
      "outputs": []
    },
    {
      "cell_type": "code",
      "source": [
        "# Section 1, Question 1: Values to insert: [19, 27, 36, 10]\n",
        "# Initialize the hash table\n",
        "separate_chaining_table_1 = SeparateChainingHashTable(10)\n",
        "\n",
        "# Insert values\n",
        "for value in [19, 27, 36, 10]:\n",
        "    separate_chaining_table_1.insert(value)\n",
        "\n",
        "# Display the table\n",
        "print(\"Separate Chaining, Section 1, Question 1:\")\n",
        "separate_chaining_table_1.display()"
      ],
      "metadata": {
        "id": "ZDSlPed841QL"
      },
      "execution_count": null,
      "outputs": []
    },
    {
      "cell_type": "code",
      "source": [
        "# Section 1, Question 2: Values to insert: [15, 25, 35, 45]\n",
        "# Initialize the hash table\n",
        "separate_chaining_table_2 = SeparateChainingHashTable(10)\n",
        "\n",
        "# Insert values\n",
        "for value in [15, 25, 34, 44]:\n",
        "    separate_chaining_table_2.insert(value)\n",
        "\n",
        "# Display the table\n",
        "print(\"Separate Chaining, Section 1, Question 2:\")\n",
        "separate_chaining_table_2.display()\n"
      ],
      "metadata": {
        "id": "Ulhf78w6_1Iz"
      },
      "execution_count": null,
      "outputs": []
    },
    {
      "cell_type": "markdown",
      "source": [
        "# Linear Probing"
      ],
      "metadata": {
        "id": "xmNCNTRs_QRo"
      }
    },
    {
      "cell_type": "code",
      "source": [
        "# Linear Probing\n",
        "class LinearProbingHashTable:\n",
        "    def __init__(self, size):\n",
        "        self.size = size\n",
        "        self.table = [None] * size\n",
        "\n",
        "    def insert(self, value):\n",
        "        index = hash_value(value, self.size)\n",
        "        while self.table[index] is not None:\n",
        "            index = (index + 1) % self.size\n",
        "        self.table[index] = value\n",
        "\n",
        "    def display(self):\n",
        "        display_table(self.table)"
      ],
      "metadata": {
        "id": "Cjde6Tjt47a5"
      },
      "execution_count": null,
      "outputs": []
    },
    {
      "cell_type": "code",
      "source": [
        "# Section 2, Question 1: Values to insert: [19, 27, 36, 10]\n",
        "# Initialize the hash table\n",
        "linear_probing_table_1 = LinearProbingHashTable(10)\n",
        "# Insert values\n",
        "for value in [19, 27, 36, 10]:\n",
        "    linear_probing_table_1.insert(value)\n",
        "\n",
        "# Display the table\n",
        "print(\"Linear Probing, Section 2, Question 1:\")\n",
        "linear_probing_table_1.display()"
      ],
      "metadata": {
        "id": "_LCUiIji47ki"
      },
      "execution_count": null,
      "outputs": []
    },
    {
      "cell_type": "code",
      "source": [
        "# Section 2, Question 2: Values to insert: [15, 25, 35, 45]\n",
        "# Initialize the hash table\n",
        "linear_probing_table_2 = LinearProbingHashTable(10)\n",
        "\n",
        "# Insert values\n",
        "for value in [12, 22, 33, 66]:\n",
        "    linear_probing_table_2.insert(value)\n",
        "\n",
        "# Display the table\n",
        "print(\"Linear Probing, Section 2, Question 2:\")\n",
        "linear_probing_table_2.display()\n"
      ],
      "metadata": {
        "id": "aqT9MxJlAKOu"
      },
      "execution_count": null,
      "outputs": []
    },
    {
      "cell_type": "markdown",
      "source": [
        "# Quadratic Probing"
      ],
      "metadata": {
        "id": "Y80vUolb_Rta"
      }
    },
    {
      "cell_type": "code",
      "source": [
        "# Quadratic Probing\n",
        "class QuadraticProbingHashTable:\n",
        "    def __init__(self, size):\n",
        "        self.size = size\n",
        "        self.table = [None] * size\n",
        "\n",
        "    def insert(self, value):\n",
        "        index = hash_value(value, self.size)\n",
        "        i = 0\n",
        "        while self.table[(index + i * i) % self.size] is not None:\n",
        "            i += 1\n",
        "        self.table[(index + i * i) % self.size] = value\n",
        "\n",
        "    def display(self):\n",
        "        display_table(self.table)"
      ],
      "metadata": {
        "id": "ZFT0_Q5v5BzI"
      },
      "execution_count": null,
      "outputs": []
    },
    {
      "cell_type": "code",
      "source": [
        "# Section 3, Question 1: Values to insert: [19, 27, 36, 10]\n",
        "# Initialize the hash table\n",
        "quadratic_probing_table_1 = QuadraticProbingHashTable(10)\n",
        "# Insert values\n",
        "for value in [19, 27, 36, 10]:\n",
        "    quadratic_probing_table_1.insert(value)\n",
        "\n",
        "# Display the table\n",
        "print(\"Quadratic Probing, Section 3, Question 1:\")\n",
        "quadratic_probing_table_1.display()"
      ],
      "metadata": {
        "id": "a0bXbSer5B1e"
      },
      "execution_count": null,
      "outputs": []
    },
    {
      "cell_type": "code",
      "source": [
        "# Section 3, Question 2: Values to insert: [22, 31, 44, 55]\n",
        "# Initialize the hash table\n",
        "quadratic_probing_table_2 = QuadraticProbingHashTable(10)\n",
        "\n",
        "# Insert values\n",
        "for value in [22, 32, 42, 52, 62]:\n",
        "    quadratic_probing_table_2.insert(value)\n",
        "\n",
        "# Display the table\n",
        "print(\"Quadratic Probing, Section 3, Question 2:\")\n",
        "quadratic_probing_table_2.display()"
      ],
      "metadata": {
        "id": "uzt5yUnDBLQW"
      },
      "execution_count": null,
      "outputs": []
    },
    {
      "cell_type": "markdown",
      "source": [
        "# Double Hashing"
      ],
      "metadata": {
        "id": "q3Jt7e8Y_SpK"
      }
    },
    {
      "cell_type": "code",
      "source": [
        "# Double Hashing\n",
        "class DoubleHashingHashTable:\n",
        "    def __init__(self, size):\n",
        "        self.size = size\n",
        "        self.table = [None] * size\n",
        "\n",
        "    def hash2(self, value):\n",
        "        return 1 + (value % (self.size - 1))\n",
        "\n",
        "    def insert(self, value):\n",
        "        index = hash_value(value, self.size)\n",
        "        step = self.hash2(value)\n",
        "        while self.table[index] is not None:\n",
        "            index = (index + step) % self.size\n",
        "        self.table[index] = value\n",
        "\n",
        "    def display(self):\n",
        "        display_table(self.table)"
      ],
      "metadata": {
        "id": "YuFid6PT5GoT"
      },
      "execution_count": null,
      "outputs": []
    },
    {
      "cell_type": "code",
      "source": [
        "# Section 4, Question 1: Values to insert: [19, 27, 36, 10]\n",
        "# Initialize the hash table\n",
        "double_hashing_table_1 = DoubleHashingHashTable(10)\n",
        "# Insert values\n",
        "for value in [19, 27, 36, 10]:\n",
        "    double_hashing_table_1.insert(value)\n",
        "\n",
        "# Display the table\n",
        "print(\"Double Hashing, Section 4, Question 1:\")\n",
        "double_hashing_table_1.display()"
      ],
      "metadata": {
        "id": "skSWQSjC5KuI"
      },
      "execution_count": null,
      "outputs": []
    },
    {
      "cell_type": "code",
      "source": [
        "# @title\n",
        "# Section 4, Question 2: Values to insert: [22, 31, 44, 55]\n",
        "# Initialize the hash table\n",
        "double_hashing_table_2 = DoubleHashingHashTable(10)\n",
        "\n",
        "# Insert values\n",
        "for value in [22, 32, 45, 55]:\n",
        "    double_hashing_table_2.insert(value)\n",
        "\n",
        "# Display the table\n",
        "print(\"Double Hashing, Section 4, Question 2:\")\n",
        "double_hashing_table_2.display()\n"
      ],
      "metadata": {
        "id": "zgFTHb3xB0AT"
      },
      "execution_count": null,
      "outputs": []
    }
  ]
}